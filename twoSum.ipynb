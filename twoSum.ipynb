{
  "cells": [
    {
      "cell_type": "markdown",
      "metadata": {
        "id": "view-in-github",
        "colab_type": "text"
      },
      "source": [
        "<a href=\"https://colab.research.google.com/github/ArslanCS1993/freecodecamp/blob/main/twoSum.ipynb\" target=\"_parent\"><img src=\"https://colab.research.google.com/assets/colab-badge.svg\" alt=\"Open In Colab\"/></a>"
      ]
    },
    {
      "cell_type": "code",
      "source": [
        "def two_sum_brute_force(nums, target):\n",
        "    for i in range(len(nums)):\n",
        "        for j in range(i + 1, len(nums)):\n",
        "            if nums[i] + nums[j] == target:\n",
        "                return [i, j]\n",
        "    return None\n",
        "\n",
        "def two_sum_hashmap(nums, target):\n",
        "    num_map = {}\n",
        "    for i, num in enumerate(nums):\n",
        "        complement = target - num\n",
        "        if complement in num_map:\n",
        "            return [num_map[complement], i]\n",
        "        num_map[num] = i\n",
        "    return None\n",
        "\n",
        "nums = [2, 7, 11, 15]\n",
        "target = 9\n",
        "\n",
        "result_brute = two_sum_brute_force(nums, target)\n",
        "if result_brute:\n",
        "    print(f\"Brute force: Indices = {result_brute}\")\n",
        "else:\n",
        "    print(\"Brute force: No solution found\")\n",
        "\n",
        "result_hashmap = two_sum_hashmap(nums, target)\n",
        "if result_hashmap:\n",
        "    print(f\"Hash map: Indices = {result_hashmap}\")\n",
        "else:\n",
        "    print(\"Hash map: No solution found\")\n",
        "\n",
        "nums2 = [3,2,4]\n",
        "target2 = 6\n",
        "\n",
        "result_brute2 = two_sum_brute_force(nums2, target2)\n",
        "if result_brute2:\n",
        "    print(f\"Brute force: Indices = {result_brute2}\")\n",
        "else:\n",
        "    print(\"Brute force: No solution found\")\n",
        "\n",
        "result_hashmap2 = two_sum_hashmap(nums2, target2)\n",
        "if result_hashmap2:\n",
        "    print(f\"Hash map: Indices = {result_hashmap2}\")\n",
        "else:\n",
        "    print(\"Hash map: No solution found\")\n",
        "\n",
        "nums3 = [3,3]\n",
        "target3 = 6\n",
        "\n",
        "result_brute3 = two_sum_brute_force(nums3, target3)\n",
        "if result_brute3:\n",
        "    print(f\"Brute force: Indices = {result_brute3}\")\n",
        "else:\n",
        "    print(\"Brute force: No solution found\")\n",
        "\n",
        "result_hashmap3 = two_sum_hashmap(nums3, target3)\n",
        "if result_hashmap3:\n",
        "    print(f\"Hash map: Indices = {result_hashmap3}\")\n",
        "else:\n",
        "    print(\"Hash map: No solution found\")"
      ],
      "outputs": [],
      "execution_count": null,
      "metadata": {
        "id": "k1TMpMZghPjf"
      }
    },
    {
      "cell_type": "code",
      "source": [],
      "metadata": {
        "id": "iu1babrQhV5Y"
      },
      "execution_count": null,
      "outputs": []
    },
    {
      "cell_type": "markdown",
      "source": [
        "<div class=\"md-recitation\">\n",
        "  Sources\n",
        "  <ol>\n",
        "  <li><a href=\"https://github.com/skaihugger/leetcode-solutions-python\">https://github.com/skaihugger/leetcode-solutions-python</a></li>\n",
        "  <li><a href=\"https://medium.com/double-pointer/top-five-most-asked-hash-table-interview-questions-at-meta-9d16a12fa93\">https://medium.com/double-pointer/top-five-most-asked-hash-table-interview-questions-at-meta-9d16a12fa93</a></li>\n",
        "  <li><a href=\"https://github.com/iamrealishaan/arraysDSA\">https://github.com/iamrealishaan/arraysDSA</a></li>\n",
        "  </ol>\n",
        "</div>"
      ],
      "metadata": {
        "id": "ZEmApPihhPjh"
      }
    }
  ],
  "metadata": {
    "colab": {
      "provenance": [],
      "include_colab_link": true
    },
    "kernelspec": {
      "display_name": "Python 3",
      "name": "python3"
    }
  },
  "nbformat": 4,
  "nbformat_minor": 0
}